{
 "cells": [
  {
   "cell_type": "code",
   "execution_count": 1,
   "metadata": {},
   "outputs": [
    {
     "name": "stdout",
     "output_type": "stream",
     "text": [
      "Requirement already satisfied: numpy in c:\\users\\sfmol\\anaconda3\\lib\\site-packages (1.21.5)\n",
      "Note: you may need to restart the kernel to use updated packages.\n"
     ]
    }
   ],
   "source": [
    "%pip install numpy\n",
    "import numpy\n"
   ]
  },
  {
   "cell_type": "code",
   "execution_count": 2,
   "metadata": {},
   "outputs": [
    {
     "name": "stdout",
     "output_type": "stream",
     "text": [
      "Population variance is: 47.36\n"
     ]
    }
   ],
   "source": [
    "#1a \n",
    "\n",
    "import numpy as np\n",
    "\n",
    "data = np.array([8, 12, 16, 24, 4])\n",
    "population_var = np.var(data)\n",
    "\n",
    "print(\"Population variance is:\", population_var)\n"
   ]
  },
  {
   "cell_type": "code",
   "execution_count": 3,
   "metadata": {},
   "outputs": [
    {
     "name": "stdout",
     "output_type": "stream",
     "text": [
      "Standard deviation is: 6.881860213634101\n"
     ]
    }
   ],
   "source": [
    "#1b (Population Standard Deviation)\n",
    "\n",
    "\n",
    "import numpy as np\n",
    "\n",
    "data = np.array([8, 12, 16, 24, 4])\n",
    "std_deviation = np.std(data)\n",
    "\n",
    "print(\"Standard deviation is:\", std_deviation)\n",
    "\n"
   ]
  },
  {
   "cell_type": "code",
   "execution_count": 4,
   "metadata": {},
   "outputs": [
    {
     "name": "stdout",
     "output_type": "stream",
     "text": [
      "[ 8 12 16 24  4]\n"
     ]
    }
   ],
   "source": [
    "print(data)\n"
   ]
  },
  {
   "cell_type": "code",
   "execution_count": 5,
   "metadata": {},
   "outputs": [
    {
     "name": "stdout",
     "output_type": "stream",
     "text": [
      "Sample standard deviation is: 7.694153624668538\n"
     ]
    }
   ],
   "source": [
    "#1b (Sample standard deviation)\n",
    "\n",
    "import numpy as np\n",
    "\n",
    "data = np.array([8, 12, 16, 24, 4])\n",
    "sample_std_deviation = np.std(data, ddof=1)\n",
    "\n",
    "print(\"Sample standard deviation is:\", sample_std_deviation)\n"
   ]
  },
  {
   "cell_type": "code",
   "execution_count": 6,
   "metadata": {},
   "outputs": [],
   "source": [
    "#2\n",
    "#  If outliers are introduced to a dataset, the standard deviation of the data will typically increase.This is because outliers are data points that are significantly different from the rest of the data, and they can have a large effect on the standard deviation calculation.As the standard deviation measures how spread out the data is, the presence of outliers will increase the overall spread of the data, leading to an increase in the standard deviation.In contrast, if the outliers are very close to the mean, then the standard deviation might not increase that much.Therefore, it's important to be cautious when dealing with outliers and to consider whether they should be removed or kept in the data set based on the specific context and goals of the analysis."
   ]
  },
  {
   "cell_type": "code",
   "execution_count": 7,
   "metadata": {},
   "outputs": [],
   "source": [
    "#3\n",
    "#a)F b)T c)T d)F e)F f)T"
   ]
  },
  {
   "cell_type": "code",
   "execution_count": 8,
   "metadata": {},
   "outputs": [
    {
     "name": "stdout",
     "output_type": "stream",
     "text": [
      "The median of the dataset is: [30. 30. 30. 30. 30. 31. 31. 32. 32. 33. 33. 34. 34.]\n"
     ]
    },
    {
     "name": "stderr",
     "output_type": "stream",
     "text": [
      "C:\\Users\\sfmol\\AppData\\Local\\Temp\\ipykernel_3656\\1487304268.py:6: VisibleDeprecationWarning: Creating an ndarray from ragged nested sequences (which is a list-or-tuple of lists-or-tuples-or ndarrays with different lengths or shapes) is deprecated. If you meant to do this, you must specify 'dtype=object' when creating the ndarray.\n",
      "  data = np.array([[[[[[[[[[\n"
     ]
    }
   ],
   "source": [
    "#4\n",
    "\n",
    "import numpy as np\n",
    "\n",
    "# Create the dataset\n",
    "data = np.array([[[[[[[[[[\n",
    "    [10, 10, 10, 10, 11, 11, 12, 13, 14],\n",
    "    [15, 15, 15, 16, 16, 16, 16, 16, 17, 18, 19, 19],\n",
    "    [20, 20, 20, 21, 21, 21, 21, 21, 22, 22, 22, 23, 23, 23, 24, 24, 24],\n",
    "    [26, 26, 26, 26, 26, 26, 26, 27, 27, 27, 27, 29, 29, 29, 29, 29, 29, 29, 29, 29],\n",
    "    [30, 30, 30, 30, 30, 31, 31, 32, 32, 33, 33, 34, 34],\n",
    "    [35, 35, 35, 37, 37, 37, 37, 39, 39, 39],\n",
    "    [40, 40, 43, 43, 44, 44],\n",
    "    [46, 46, 46, 47, 49],\n",
    "    [52, 53, 54]\n",
    "]]]]]]]]]])\n",
    "\n",
    "# Flatten the dataset to a 1D array and sort it\n",
    "sorted_data = np.sort(data.flatten())\n",
    "\n",
    "# Find the median\n",
    "median = np.median(sorted_data)\n",
    "\n",
    "print(\"The median of the dataset is:\", median)\n",
    "\n",
    "#This warning message suggests that the dataset you provided to NumPy contains arrays of different lengths or shapes. This warning message appears because NumPy cannot create a regular 2D array from the input data that has different lengths for different rows. To fix this warning, you can specify the dtype=object parameter when creating the NumPy array. This will allow NumPy to create an array of objects, where each element of the array is an array of different lengths. Here's how you can modify your code to use the dtype=object parameter:\n"
   ]
  },
  {
   "cell_type": "code",
   "execution_count": 9,
   "metadata": {},
   "outputs": [
    {
     "name": "stdout",
     "output_type": "stream",
     "text": [
      "The median of the dataset is: 27.0\n"
     ]
    }
   ],
   "source": [
    "#4b (Correct)\n",
    "\n",
    "import numpy as np\n",
    "\n",
    "# Create the dataset with dtype=object\n",
    "data = np.array([\n",
    "    [10, 10, 10, 10, 11, 11, 12, 13, 14],\n",
    "    [15, 15, 15, 16, 16, 16, 16, 16, 17, 18, 19, 19],\n",
    "    [20, 20, 20, 21, 21, 21, 21, 21, 22, 22, 22, 23, 23, 23, 24, 24, 24],\n",
    "    [26, 26, 26, 26, 26, 26, 26, 27, 27, 27, 27, 29, 29, 29, 29, 29, 29, 29, 29, 29],\n",
    "    [30, 30, 30, 30, 30, 31, 31, 32, 32, 33, 33, 34, 34],\n",
    "    [35, 35, 35, 37, 37, 37, 37, 39, 39, 39],\n",
    "    [40, 40, 43, 43, 44, 44],\n",
    "    [46, 46, 46, 47, 49],\n",
    "    [52, 53, 54]\n",
    "], dtype=object)\n",
    "\n",
    "# Flatten the dataset to a 1D array and sort it\n",
    "sorted_data = np.sort(np.concatenate(data))\n",
    "\n",
    "# Find the median\n",
    "median = np.median(sorted_data)\n",
    "\n",
    "print(\"The median of the dataset is:\", median)\n"
   ]
  },
  {
   "cell_type": "code",
   "execution_count": null,
   "metadata": {},
   "outputs": [],
   "source": []
  }
 ],
 "metadata": {
  "kernelspec": {
   "display_name": "base",
   "language": "python",
   "name": "python3"
  },
  "language_info": {
   "codemirror_mode": {
    "name": "ipython",
    "version": 3
   },
   "file_extension": ".py",
   "mimetype": "text/x-python",
   "name": "python",
   "nbconvert_exporter": "python",
   "pygments_lexer": "ipython3",
   "version": "3.9.13"
  },
  "orig_nbformat": 4
 },
 "nbformat": 4,
 "nbformat_minor": 2
}
